{
 "cells": [
  {
   "cell_type": "code",
   "execution_count": 2,
   "metadata": {
    "scrolled": true
   },
   "outputs": [],
   "source": [
    "from  bs4 import BeautifulSoup\n",
    "import requests\n",
    "import pandas as pd"
   ]
  },
  {
   "cell_type": "code",
   "execution_count": 3,
   "metadata": {
    "collapsed": true
   },
   "outputs": [],
   "source": [
    "url=\"https://www.codewithharry.com\""
   ]
  },
  {
   "cell_type": "code",
   "execution_count": 5,
   "metadata": {
    "collapsed": true
   },
   "outputs": [],
   "source": [
    "#1 get the html\n",
    "r=requests.get(url)"
   ]
  },
  {
   "cell_type": "code",
   "execution_count": 7,
   "metadata": {},
   "outputs": [],
   "source": [
    "htmlcontent=r.content\n",
    "#print(htmlcontent)"
   ]
  },
  {
   "cell_type": "code",
   "execution_count": 19,
   "metadata": {},
   "outputs": [
    {
     "name": "stdout",
     "output_type": "stream",
     "text": [
      "<class 'bs4.BeautifulSoup'>\n"
     ]
    }
   ],
   "source": [
    "#now creating soup\n",
    "#2 parse the html\n",
    "soup=BeautifulSoup(htmlcontent, 'html.parser')\n",
    "print(type(soup))   #beautiful soup\n",
    "#print(soup.prettify)\n"
   ]
  },
  {
   "cell_type": "code",
   "execution_count": 20,
   "metadata": {},
   "outputs": [
    {
     "name": "stdout",
     "output_type": "stream",
     "text": [
      "<title>\n",
      "Free Programming Videos, Courses &amp; More In Hindi\n",
      " - Code With Harry</title>\n",
      "<class 'bs4.element.Tag'>\n",
      "<class 'bs4.element.NavigableString'>\n"
     ]
    }
   ],
   "source": [
    "#3 html tree traversal\n",
    "title=soup.title\n",
    "print(title)\n",
    "print(type(title))    #tag\n",
    "print(type(title.string))  #navigable string"
   ]
  },
  {
   "cell_type": "code",
   "execution_count": 16,
   "metadata": {},
   "outputs": [
    {
     "name": "stdout",
     "output_type": "stream",
     "text": [
      "None\n"
     ]
    }
   ],
   "source": [
    "heading=soup.heading\n",
    "print(heading)"
   ]
  },
  {
   "cell_type": "code",
   "execution_count": 21,
   "metadata": {
    "collapsed": true
   },
   "outputs": [],
   "source": [
    "#comment\n"
   ]
  },
  {
   "cell_type": "code",
   "execution_count": 28,
   "metadata": {},
   "outputs": [
    {
     "name": "stdout",
     "output_type": "stream",
     "text": [
      "['lead', 'text-muted']\n"
     ]
    }
   ],
   "source": [
    "#take all paragraphs\n",
    "para=soup.find_all('p')\n",
    "print(soup.find('p')['class'])\n",
    "#print(para)"
   ]
  },
  {
   "cell_type": "code",
   "execution_count": 31,
   "metadata": {},
   "outputs": [],
   "source": [
    "first_element=soup.find('p')  #get first element of a page\n",
    "#print(first_element)"
   ]
  },
  {
   "cell_type": "code",
   "execution_count": 37,
   "metadata": {},
   "outputs": [
    {
     "name": "stdout",
     "output_type": "stream",
     "text": [
      "[<p class=\"lead text-muted\">Confused on which course to take? I have got you covered. Browse courses and find out\n",
      "            the best course for you. Its free!<br/>Code With Harry is my attempt to teach basics and those coding\n",
      "            techniques to people in short time which took me ages to learn.</p>]\n"
     ]
    }
   ],
   "source": [
    "#find all elements having same class\n",
    "print(soup.find_all(\"p\" ,class_=\"lead\"))"
   ]
  },
  {
   "cell_type": "code",
   "execution_count": 41,
   "metadata": {},
   "outputs": [
    {
     "name": "stdout",
     "output_type": "stream",
     "text": [
      "Confused on which course to take? I have got you covered. Browse courses and find out\n",
      "            the best course for you. Its free!Code With Harry is my attempt to teach basics and those coding\n",
      "            techniques to people in short time which took me ages to learn.\n"
     ]
    }
   ],
   "source": [
    "#get text\n",
    "print(soup.find('p').get_text())\n",
    "#print(soup.get_text())"
   ]
  },
  {
   "cell_type": "code",
   "execution_count": 44,
   "metadata": {
    "collapsed": true
   },
   "outputs": [],
   "source": [
    "#take all anchor tags\n",
    "anchor_tags=soup.find_all('a')\n",
    "#print(anc_tags)"
   ]
  },
  {
   "cell_type": "code",
   "execution_count": 55,
   "metadata": {},
   "outputs": [
    {
     "name": "stdout",
     "output_type": "stream",
     "text": [
      "{'https://www.codewithharry.com /contact', 'https://www.codewithharry.com /', 'https://www.codewithharry.com /videos', 'https://www.codewithharry.com /blog'}\n"
     ]
    }
   ],
   "source": [
    "#get all the links from the anchor text\n",
    "all_links=set()\n",
    "for link in anchor_tags:\n",
    "    if (link.get('href') !='#'):\n",
    "        all_links.add(f\"https://www.codewithharry.com {link.get('href')}\")\n",
    "print(all_links)"
   ]
  },
  {
   "cell_type": "code",
   "execution_count": 64,
   "metadata": {},
   "outputs": [],
   "source": [
    "#creating you own para through comment\n",
    "markup=\"<p><----this is a comment0---></p>\"\n",
    "#soup2=BeautifulSoup(markup)\n",
    "#print(type(soup2.p.string))"
   ]
  },
  {
   "cell_type": "code",
   "execution_count": 80,
   "metadata": {},
   "outputs": [
    {
     "name": "stdout",
     "output_type": "stream",
     "text": [
      "\n",
      "\n",
      "<ul class=\"navbar-nav mr-auto\">\n",
      "<li class=\"nav-item\">\n",
      "<a class=\"nav-link\" href=\"/\">Home</a>\n",
      "</li>\n",
      "<li class=\"nav-item\">\n",
      "<a class=\"nav-link\" href=\"/videos\">Videos</a>\n",
      "</li>\n",
      "<li class=\"nav-item\">\n",
      "<a class=\"nav-link\" href=\"/blog\">Blog</a>\n",
      "</li>\n",
      "<li class=\"nav-item\">\n",
      "<a class=\"nav-link\" href=\"/contact\">Contact Me</a>\n",
      "</li>\n",
      "</ul>\n",
      "\n",
      "\n",
      "<form action=\"/search/\" class=\"form-inline my-2 my-lg-0 mr-3\" method=\"get\">\n",
      "<input aria-label=\"Search\" class=\"form-control mr-sm-2\" name=\"query\" placeholder=\"Search\" type=\"search\"/>\n",
      "<button class=\"btn btn-danger my-2 my-sm-0\" type=\"submit\">Search</button>\n",
      "</form>\n",
      "\n",
      "\n",
      "<div>\n",
      "<button class=\"btn btn-danger\" data-target=\"#loginModal\" data-toggle=\"modal\" type=\"button\">Login</button>\n",
      "<button class=\"btn btn-danger\" data-target=\"#signupModal\" data-toggle=\"modal\" type=\"button\">SignUp</button>\n",
      "</div>\n",
      "\n",
      "\n"
     ]
    }
   ],
   "source": [
    "navbarSupportedContent=soup.find(id='navbarSupportedContent')\n",
    "#print(navbarSupportedContent)\n",
    "for element in (navbarSupportedContent.contents):  #can get the whole content\n",
    "    print(element) \n",
    "#content take the whole list and use memory while children are avalible as a generator which can easily be iteratable"
   ]
  },
  {
   "cell_type": "code",
   "execution_count": 86,
   "metadata": {},
   "outputs": [
    {
     "name": "stdout",
     "output_type": "stream",
     "text": [
      "Home\n",
      "Videos\n",
      "Blog\n",
      "Contact Me\n",
      "Search\n",
      "Login\n",
      "SignUp\n"
     ]
    }
   ],
   "source": [
    "for s in (navbarSupportedContent.stripped_strings):  #---------we can take all the strings\n",
    "    print(s) "
   ]
  },
  {
   "cell_type": "code",
   "execution_count": 90,
   "metadata": {},
   "outputs": [
    {
     "name": "stdout",
     "output_type": "stream",
     "text": [
      "<nav class=\"navbar navbar-expand-lg navbar-dark bg-dark\">\n",
      "<a class=\"navbar-brand\" href=\"/\"><img alt=\"My image\" class=\"brandLogo\" src=\"/static/common/img/photo.png\"/></a>\n",
      "<button aria-controls=\"navbarSupportedContent\" aria-expanded=\"false\" aria-label=\"Toggle navigation\" class=\"navbar-toggler\" data-target=\"#navbarSupportedContent\" data-toggle=\"collapse\" type=\"button\">\n",
      "<span class=\"navbar-toggler-icon\"></span>\n",
      "</button>\n",
      "<div class=\"collapse navbar-collapse\" id=\"navbarSupportedContent\">\n",
      "<ul class=\"navbar-nav mr-auto\">\n",
      "<li class=\"nav-item\">\n",
      "<a class=\"nav-link\" href=\"/\">Home</a>\n",
      "</li>\n",
      "<li class=\"nav-item\">\n",
      "<a class=\"nav-link\" href=\"/videos\">Videos</a>\n",
      "</li>\n",
      "<li class=\"nav-item\">\n",
      "<a class=\"nav-link\" href=\"/blog\">Blog</a>\n",
      "</li>\n",
      "<li class=\"nav-item\">\n",
      "<a class=\"nav-link\" href=\"/contact\">Contact Me</a>\n",
      "</li>\n",
      "</ul>\n",
      "<form action=\"/search/\" class=\"form-inline my-2 my-lg-0 mr-3\" method=\"get\">\n",
      "<input aria-label=\"Search\" class=\"form-control mr-sm-2\" name=\"query\" placeholder=\"Search\" type=\"search\"/>\n",
      "<button class=\"btn btn-danger my-2 my-sm-0\" type=\"submit\">Search</button>\n",
      "</form>\n",
      "<div>\n",
      "<button class=\"btn btn-danger\" data-target=\"#loginModal\" data-toggle=\"modal\" type=\"button\">Login</button>\n",
      "<button class=\"btn btn-danger\" data-target=\"#signupModal\" data-toggle=\"modal\" type=\"button\">SignUp</button>\n",
      "</div>\n",
      "</div>\n",
      "</nav>\n",
      "nav\n",
      "body\n",
      "html\n",
      "[document]\n"
     ]
    }
   ],
   "source": [
    "print(navbarSupportedContent.parent)\n",
    "for i in (navbarSupportedContent.parents):\n",
    "    print(i.name)"
   ]
  },
  {
   "cell_type": "code",
   "execution_count": 93,
   "metadata": {},
   "outputs": [
    {
     "name": "stdout",
     "output_type": "stream",
     "text": [
      "None\n"
     ]
    }
   ],
   "source": [
    "print(navbarSupportedContent.next_sibling.next_sibling)"
   ]
  },
  {
   "cell_type": "code",
   "execution_count": 94,
   "metadata": {},
   "outputs": [
    {
     "name": "stdout",
     "output_type": "stream",
     "text": [
      "<button aria-controls=\"navbarSupportedContent\" aria-expanded=\"false\" aria-label=\"Toggle navigation\" class=\"navbar-toggler\" data-target=\"#navbarSupportedContent\" data-toggle=\"collapse\" type=\"button\">\n",
      "<span class=\"navbar-toggler-icon\"></span>\n",
      "</button>\n"
     ]
    }
   ],
   "source": [
    "print(navbarSupportedContent.previous_sibling.previous_sibling)"
   ]
  },
  {
   "cell_type": "code",
   "execution_count": 98,
   "metadata": {},
   "outputs": [
    {
     "name": "stdout",
     "output_type": "stream",
     "text": [
      "[]\n"
     ]
    }
   ],
   "source": [
    "item=soup.select('.loginModal')\n",
    "print(item) #here . is refer to class"
   ]
  },
  {
   "cell_type": "code",
   "execution_count": null,
   "metadata": {
    "collapsed": true
   },
   "outputs": [],
   "source": []
  },
  {
   "cell_type": "code",
   "execution_count": null,
   "metadata": {
    "collapsed": true
   },
   "outputs": [],
   "source": []
  },
  {
   "cell_type": "code",
   "execution_count": null,
   "metadata": {
    "collapsed": true
   },
   "outputs": [],
   "source": []
  }
 ],
 "metadata": {
  "kernelspec": {
   "display_name": "Python 3",
   "language": "python",
   "name": "python3"
  },
  "language_info": {
   "codemirror_mode": {
    "name": "ipython",
    "version": 3
   },
   "file_extension": ".py",
   "mimetype": "text/x-python",
   "name": "python",
   "nbconvert_exporter": "python",
   "pygments_lexer": "ipython3",
   "version": "3.6.1"
  }
 },
 "nbformat": 4,
 "nbformat_minor": 2
}
